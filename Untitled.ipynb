{
 "cells": [
  {
   "cell_type": "markdown",
   "metadata": {
    "slideshow": {
     "slide_type": "slide"
    }
   },
   "source": [
    "# Trabajo de Investigación - Javascript\n",
    "\n",
    "**Profesores**\n",
    "-\tLic. Romina Stickar\n",
    "-\tLic. Lautaro Pecile\n",
    "\n",
    "**Alumnos**\n",
    "-\tLuciano Alzugaray\n",
    "-\tLucas Krmpotic"
   ]
  },
  {
   "cell_type": "markdown",
   "metadata": {
    "slideshow": {
     "slide_type": "slide"
    }
   },
   "source": [
    "## Introducción"
   ]
  },
  {
   "cell_type": "markdown",
   "metadata": {
    "slideshow": {
     "slide_type": "slide"
    }
   },
   "source": [
    "\n",
    "## Historia del Lenguaje"
   ]
  },
  {
   "cell_type": "markdown",
   "metadata": {
    "slideshow": {
     "slide_type": "slide"
    }
   },
   "source": [
    "## Paradigma\n",
    "\n",
    "*Javascript* pertenece escencialmente a la clasificación de los **Lenguajes Procedurales**. Esto significa que un programa escrito en *Javascript*  es una sucesión de instrucciones, que se ejecutan secuencialmente, para indicarle al sistema como computar las acciones correspondientes.\n",
    "\n",
    "Al mismo tiempo, la comunidad de *Javascript* agregan dos paradigmas más que este leng## Introducciónuaje cumple con ciertas características. Primero, al lenguaje se lo puede encontrar categorizado como **orientado a objetos** . Esto ocurre porque el lenguaje ofrece mecanismos para generar abstracciones parecidas a las clases, las cuales denominan **prototipos**, así  llevando una **programación basada en prototipos**.\n",
    "\n",
    "La programación basada en prototipos consiste en "
   ]
  },
  {
   "cell_type": "markdown",
   "metadata": {
    "slideshow": {
     "slide_type": "slide"
    }
   },
   "source": [
    "\n",
    "\n",
    "\n",
    "## Criterios de Evaluación\n"
   ]
  },
  {
   "cell_type": "markdown",
   "metadata": {
    "slideshow": {
     "slide_type": "slide"
    }
   },
   "source": [
    "\n",
    "\n",
    "## Tipado\n",
    "\n",
    "Javascript es un lenguaje **débilmente tipado**, y de **tipado dinámico**, lo cual lo hace súmamente flexible pero muy inseguro. Además, algunas características particulares, que se detallan en otros apartados y que producen que las variables se liguen a valores inesperados, imponen fuertes dificultades para el *debugging* sobre todo de aplicaciones front-end. A raíz de esto es que desde hace tiempo vienen surgiendo herramientas para apoyar a los programadores en la detección de errores en código que corre en los navegadores. \n",
    "\n",
    "El estándar EcmaScript 6 a incluído avances importantes en este sentido como la posibilidad de declarar constantes y de limitar el scope de las variables declarandolas con **let** en lugar de **var**. A su vez los frameworks intentan aportar lo propio ofreciendo arquitecturas probadas. Incluso ha surgido TypeScript, un superconjunto de JavaScript, que incorpora la posibilidad de declarar (y por lo tanto detectar errores de) tipos de variables. TypeScript se basa en un \"transpilador\" que interfacea entre la sintaxis de éste pseudolenguaje y la sintáxis propia del estándar EcmaScript 6. \n",
    "\n",
    "Si bien este trabajo no ahondará demasiado en esto, nos parecía fundamental mencionarlo ya que es justamente su sistema de tipos lo que ha sido más masivamente criticado en JavaScript."
   ]
  },
  {
   "cell_type": "markdown",
   "metadata": {
    "slideshow": {
     "slide_type": "slide"
    }
   },
   "source": [
    "### Débilmente Tipado\n",
    "\n",
    "Tal como surge de los apuntes de cátedra la difefencia central entre un lenguaje con tipado débil y uno con tipado fuerte es la necesidad o no de utilizar reglas de conversión explícitas en las expresiones con operaciones que involucran distintos tipos de datos.\n",
    "\n",
    "Por supuesto que JavaScript tiene reglas explícitas de conversión de tipos, pero también, como todo lenguaje de tipado débil, aplica reglas de equivalencia y coerción. Para ello se basa en los operadores de la expresión que brindan el contexto a partir del cual se resuelve la conversión de tipos."
   ]
  },
  {
   "cell_type": "code",
   "execution_count": 1,
   "metadata": {
    "slideshow": {
     "slide_type": "fragment"
    }
   },
   "outputs": [
    {
     "data": {
      "application/javascript": [
       "var foo = '5'; \n",
       "element.text(typeof parseInt(foo) == typeof + foo);\n",
       "//element.text(typeof parseInt(foo) == typeof(foo / 1));\n"
      ],
      "text/plain": [
       "<IPython.core.display.Javascript object>"
      ]
     },
     "metadata": {},
     "output_type": "display_data"
    }
   ],
   "source": [
    "%%javascript\n",
    "var foo = '5'; \n",
    "element.text(typeof parseInt(foo) == typeof + foo);\n",
    "//element.text(typeof parseInt(foo) == typeof(foo / 1));\n"
   ]
  },
  {
   "cell_type": "markdown",
   "metadata": {
    "slideshow": {
     "slide_type": "slide"
    }
   },
   "source": [
    "\n",
    "Como vemos el operador es el que le permite a JavaScript determinar la conversión correcta.\n",
    "\n",
    "Es interesante el caso del primer ejemplo, ya que es el operador unario **\"+\"** el que está generando la conversión del tipo string a int, sin embargo esto requiere tener presente la cuestión de la sobrecarga de operadores. Ya que si hay un operador sobrecargado en varios lenguajes de programación, es el viejo y querido **\"+\"**. En el siguiente ejemplo se puede ver los problemas que puede traer el no tener en cuenta la sobrecarga de operadores."
   ]
  },
  {
   "cell_type": "code",
   "execution_count": 59,
   "metadata": {
    "slideshow": {
     "slide_type": "fragment"
    }
   },
   "outputs": [
    {
     "data": {
      "application/javascript": [
       "var foo = '2';\n",
       "var bar = 1;\n",
       "\n",
       "element.text(foo - bar);\n",
       "//element.text(foo + bar);\n"
      ],
      "text/plain": [
       "<IPython.core.display.Javascript object>"
      ]
     },
     "metadata": {},
     "output_type": "display_data"
    }
   ],
   "source": [
    "%%javascript\n",
    "var foo = '2';\n",
    "var bar = 1;\n",
    "\n",
    "element.text(foo - bar);\n",
    "//element.text(foo + bar);\n"
   ]
  },
  {
   "cell_type": "markdown",
   "metadata": {
    "slideshow": {
     "slide_type": "fragment"
    }
   },
   "source": [
    "En efecto, la sobrecarga de **\"+\"** como operador aritmético y de concatenación de strings genera que en un caso *foo* sea casteada a int, mientras que en el otro *bar* sea casteada a string. Por lo tanto se impone la necesidad de cuidados adicionales a la hora de trabajar con coerción de tipos en JavaScript."
   ]
  },
  {
   "cell_type": "markdown",
   "metadata": {
    "slideshow": {
     "slide_type": "slide"
    }
   },
   "source": [
    "### Tipado Dinámico. \n",
    "\n",
    "En JavaScript la vinculación o ligadura de una variable con su tipo se da en *runtime* y puede cambiar durante la ejecución del programa. Esto en cierta bibliografía se explica como que el tipo está ligado al *valor* de la variable y no a la variable como concepto de locación de celda de memoria."
   ]
  },
  {
   "cell_type": "code",
   "execution_count": 2,
   "metadata": {
    "slideshow": {
     "slide_type": "fragment"
    }
   },
   "outputs": [
    {
     "data": {
      "application/javascript": [
       "var foo = 1;\n",
       "element.append(typeof foo + '<br>'); \n",
       "\n",
       "foo = 'cadena';\n",
       "element.append(typeof foo + '<br>');\n"
      ],
      "text/plain": [
       "<IPython.core.display.Javascript object>"
      ]
     },
     "metadata": {},
     "output_type": "display_data"
    }
   ],
   "source": [
    "%%javascript\n",
    "var foo = 1;\n",
    "element.append(typeof foo + '<br>'); \n",
    "\n",
    "foo = 'cadena';\n",
    "element.append(typeof foo + '<br>');"
   ]
  },
  {
   "cell_type": "markdown",
   "metadata": {
    "slideshow": {
     "slide_type": "subslide"
    }
   },
   "source": [
    "Además JavaScript incorpora el valor *\"undefined\"* para las variables declaradas pero no ligadas a ningún valor. \n",
    "\n",
    "El valor *\"undefined\"* también se retorna al preguntar por el tipo de una variable no ligada a un valor. \n",
    "\n",
    "Es decir:"
   ]
  },
  {
   "cell_type": "code",
   "execution_count": 3,
   "metadata": {
    "slideshow": {
     "slide_type": "fragment"
    }
   },
   "outputs": [
    {
     "data": {
      "application/javascript": [
       "var foo;\n",
       "element.append(foo + '<br>'); \n",
       "element.append(typeof foo + '<br>'); \n"
      ],
      "text/plain": [
       "<IPython.core.display.Javascript object>"
      ]
     },
     "metadata": {},
     "output_type": "display_data"
    }
   ],
   "source": [
    "%%javascript\n",
    "var foo;\n",
    "element.append(foo + '<br>'); \n",
    "element.append(typeof foo + '<br>'); "
   ]
  },
  {
   "cell_type": "markdown",
   "metadata": {
    "slideshow": {
     "slide_type": "subslide"
    }
   },
   "source": [
    "Nos parece pertinente una referencia mas sobre la función *typeof* y su relación con las variables globales y las ligaduras de tipos en JavaScript. \n",
    "\n",
    "Debido a que el lenguaje surgió, como ya se dijo, para brindar dinamismo a las páginas web, desde sus inicios los programas escritos en él se caracterizaron por trabajar mucho con variables globales (muchas que identificaban especificidades de los navergdores). Si bién esto ha mejorado mucho por ejemplo con la incorporación en el estándar EcmaScript 6 de la posibilidad de declarar **constantes**, sigue siendo frecuente que los programadores de librerías o módulos deban manipular variables que no fueron declaradas por ellos mismos. \n",
    "\n",
    "Por todo esto la función *typeof* incorpora un comportamiento particular para incorporar mayor seguridad ante posibles referencias a variables no declaradas: "
   ]
  },
  {
   "cell_type": "code",
   "execution_count": 62,
   "metadata": {
    "slideshow": {
     "slide_type": "fragment"
    }
   },
   "outputs": [
    {
     "data": {
      "application/javascript": [
       "if (foo) {\n",
       "    console.log(\"hacer algo\")\n",
       "} else {\n",
       "    console.log(\"hacer otra cosa\")\n",
       "}\n"
      ],
      "text/plain": [
       "<IPython.core.display.Javascript object>"
      ]
     },
     "metadata": {},
     "output_type": "display_data"
    }
   ],
   "source": [
    "%%javascript\n",
    "if (foo) {\n",
    "    console.log(\"hacer algo\")\n",
    "} else {\n",
    "    console.log(\"hacer otra cosa\")\n",
    "}"
   ]
  },
  {
   "cell_type": "markdown",
   "metadata": {
    "slideshow": {
     "slide_type": "subslide"
    }
   },
   "source": [
    " Sin embargo *typeof* brinda una solución posible al retornar *\"undefined\"* aún en caso de que la variable no esté declarada:"
   ]
  },
  {
   "cell_type": "code",
   "execution_count": 4,
   "metadata": {
    "slideshow": {
     "slide_type": "fragment"
    }
   },
   "outputs": [
    {
     "data": {
      "application/javascript": [
       "if (typeof foo != \"undefined\") {\n",
       "    element.append(\"hacer algo\")\n",
       "} else {\n",
       "    element.append(\"hacer otra cosa\")\n",
       "}\n",
       "// 'hacer otra cosa'\n"
      ],
      "text/plain": [
       "<IPython.core.display.Javascript object>"
      ]
     },
     "metadata": {},
     "output_type": "display_data"
    }
   ],
   "source": [
    "%%javascript\n",
    "if (typeof foo != \"undefined\") {\n",
    "    element.append(\"hacer algo\")\n",
    "} else {\n",
    "    element.append(\"hacer otra cosa\")\n",
    "}\n",
    "// 'hacer otra cosa'"
   ]
  },
  {
   "cell_type": "markdown",
   "metadata": {
    "slideshow": {
     "slide_type": "slide"
    }
   },
   "source": [
    "## Alcance de una variable y pasaje de parámetros\n",
    "\n",
    "Creemos que la intima relación de estos dos temas en JavaScript nos obliga a tratarlos dentro de un mismo apartado. \n",
    "\n",
    "Comenzaremos con consideraciones sobre el *scope* para luego poder abordar el pasaje de parámetros con mayor claridad. \n"
   ]
  },
  {
   "cell_type": "markdown",
   "metadata": {
    "slideshow": {
     "slide_type": "slide"
    }
   },
   "source": [
    "\n",
    "\n",
    "### El scope en JavaScript\n",
    "\n",
    "El *scope* en JavaScript ha sido otro de los aspectos que contribuyó a la inseguridad o la poca confiabilidad del lenguaje.\n",
    "\n",
    "Por ser un tema tan amplio no será posible ahondar demasiado en este trabajo. No obstante intentaremos plantear un *overview* que nos permita entender algunas de las dificultades que presenta el lenguaje respecto de esta cuestión. "
   ]
  },
  {
   "cell_type": "markdown",
   "metadata": {
    "slideshow": {
     "slide_type": "slide"
    }
   },
   "source": [
    "\n",
    "#### Variables globales y locales\n",
    "\n",
    "Tal como mencionabamos en el apartado sobre tipado, JavaScript es diferente a todo el resto de los lenguajes de programación porque su scope global es un objeto (*window*) que siempre esta instanciado pero que difiere en atributos respecto de cada navegador y por lo tanto no podemos saber a priori de cual se trata. Nuevamente, esta es la razón por la cual es tan común el trabajo con variables globales. \n",
    "\n",
    "\n",
    "\n",
    "\n",
    "es interesante mencionar el avance que significó la incorporación del calificador **let** en el estándar EcmaScript 6.\n",
    "\n",
    "También hablaremos de las *funciones anónimas autoejecutables* como forma de aislar el scope de una unidad determinada. Sin embargo este tema si bien guarda relación con el scope lo abordaremos en el apartado referido al pasaje de parámetros por razones que allí se explicarán."
   ]
  },
  {
   "cell_type": "markdown",
   "metadata": {
    "slideshow": {
     "slide_type": "slide"
    }
   },
   "source": [
    "#### La incorporación de \"let\"\n",
    "Antes de la aparición del nuevo estándar JavaScript permitía cosas como esta:"
   ]
  },
  {
   "cell_type": "code",
   "execution_count": 64,
   "metadata": {
    "slideshow": {
     "slide_type": "fragment"
    }
   },
   "outputs": [
    {
     "data": {
      "application/javascript": [
       "// el calificador \"var\" no es necesario pero ilustra mejor este ejemplo\n",
       "for (var i = 0; i<10; i++) {\n",
       "    //hacer algo\n",
       "}\n",
       "element.text(i);\n",
       "// 10\n"
      ],
      "text/plain": [
       "<IPython.core.display.Javascript object>"
      ]
     },
     "metadata": {},
     "output_type": "display_data"
    }
   ],
   "source": [
    "%%javascript\n",
    "// el calificador \"var\" no es necesario pero ilustra mejor este ejemplo\n",
    "for (var i = 0; i<10; i++) {\n",
    "    //hacer algo\n",
    "}\n",
    "element.text(i);\n",
    "// 10"
   ]
  },
  {
   "cell_type": "markdown",
   "metadata": {
    "slideshow": {
     "slide_type": "subslide"
    }
   },
   "source": [
    "Es decir que toda variable declarada dentro de un bloque quedaba automáticamente referenciable desde fuera de él. \n",
    "\n",
    "Nótese además que el valor de **i** es el 10, es decir que el último incremento se produjo igual, aunque las sentencias correspondientes a ese valor no se ejecutaron por la condicion *i < 10*.\n",
    "\n",
    "Obviamente esto trajo no solo problemas sino el fomento de malas prácticas de programación. \n",
    "\n",
    "Para solucionar esto, EcmaScript 6 incorporó el calificador **let** que permite limitar el scope de una variable al ámbito de un bloque en particular. Entonces:"
   ]
  },
  {
   "cell_type": "code",
   "execution_count": 65,
   "metadata": {
    "slideshow": {
     "slide_type": "fragment"
    }
   },
   "outputs": [
    {
     "data": {
      "application/javascript": [
       "// ahora con let\n",
       "for (let i = 0; i<10; i++) {\n",
       "    //hacer algo\n",
       "}\n",
       "element.text(i);\n",
       "// ReferenceError: i is not defined\n"
      ],
      "text/plain": [
       "<IPython.core.display.Javascript object>"
      ]
     },
     "metadata": {},
     "output_type": "display_data"
    }
   ],
   "source": [
    "%%javascript\n",
    "// ahora con let\n",
    "for (let i = 0; i<10; i++) {\n",
    "    //hacer algo\n",
    "}\n",
    "element.text(i);\n",
    "// ReferenceError: i is not defined"
   ]
  },
  {
   "cell_type": "markdown",
   "metadata": {
    "slideshow": {
     "slide_type": "slide"
    }
   },
   "source": [
    "## Expresiones"
   ]
  },
  {
   "cell_type": "markdown",
   "metadata": {
    "slideshow": {
     "slide_type": "slide"
    }
   },
   "source": [
    "\n",
    "## Tipos de Datos"
   ]
  },
  {
   "cell_type": "markdown",
   "metadata": {
    "slideshow": {
     "slide_type": "slide"
    }
   },
   "source": [
    "## Estructuras de control"
   ]
  },
  {
   "cell_type": "markdown",
   "metadata": {
    "slideshow": {
     "slide_type": "slide"
    }
   },
   "source": [
    "## Pasaje de Parámetros\n",
    "\n",
    "El pasaje de parámetros en javascript \n",
    "\n",
    "\n",
    "\n",
    "Otro de los problemas del scope en JavaScript es que todas las variables de los padres estáticos son visibles en sus hijos. \n",
    "\n",
    "Para evitar esto e incorporar al scope de una unidad solo aquello que realmente se necesita se utilizan las *funciones anónimas autoejecutables*. \n",
    "\n",
    "En los siguientes fragmentos de código se ejemplifica con claridad: "
   ]
  },
  {
   "cell_type": "code",
   "execution_count": 66,
   "metadata": {
    "slideshow": {
     "slide_type": "fragment"
    }
   },
   "outputs": [
    {
     "data": {
      "application/javascript": [
       "var foo = 1;\n",
       "var bar = 2;\n",
       "function func(){\n",
       "    element.append(foo + '<br>');\n",
       "    element.append(bar + '<br>');\n",
       "    foo = 4;\n",
       "}\n",
       "func(); \n",
       "element.append(foo + '<br>');\n"
      ],
      "text/plain": [
       "<IPython.core.display.Javascript object>"
      ]
     },
     "metadata": {},
     "output_type": "display_data"
    }
   ],
   "source": [
    "%%javascript\n",
    "var foo = 1;\n",
    "var bar = 2;\n",
    "function func(){\n",
    "    element.append(foo + '<br>');\n",
    "    element.append(bar + '<br>');\n",
    "    foo = 4;\n",
    "}\n",
    "func(); \n",
    "element.append(foo + '<br>');\n"
   ]
  },
  {
   "cell_type": "markdown",
   "metadata": {
    "slideshow": {
     "slide_type": "subslide"
    }
   },
   "source": [
    "Como se puede ver las variables **foo** y **bar** son visibles en la función **func** y su modificación es posible, lo cual altera el valor de la variable en el padre estático y por lo tanto en todas las funciones que estén al mismo nivel de **func** y se ejecuten después de ella.\n",
    "\n",
    "Dicho de un modo vulgar, el pasaje de parámetros en JavaScript no tiene sentido porque todo son \"variables globales\" para las funciones con iguales antepasados estáticos.\n",
    "\n",
    "Es decir que en este lenguaje es necesario limitar el scope explícitamente para poder contar con un mecanismo de pasaje de parámetros por copia.\n",
    "\n",
    "La estructura de una función anónima autoejecutable es la siguiente:\n",
    "```javascript\n",
    "// el primer paréntesis me permite aislar el scope y el segundo es el llamado a la función\n",
    "()();\n",
    "```\n",
    "Y para pasarle un parámetro: \n",
    "```javascript\n",
    "(function (parametroPorCopia){\n",
    "    //cuerpo de la funcion\n",
    "})(parametroPorCopia);\n",
    "```"
   ]
  },
  {
   "cell_type": "markdown",
   "metadata": {
    "slideshow": {
     "slide_type": "subslide"
    }
   },
   "source": [
    "Entonces: "
   ]
  },
  {
   "cell_type": "code",
   "execution_count": 67,
   "metadata": {
    "slideshow": {
     "slide_type": "fragment"
    }
   },
   "outputs": [
    {
     "data": {
      "application/javascript": [
       "var foo = 1;\n",
       "\n",
       "(function() {\n",
       "    element.append(foo + '<br>');\n",
       "})();\n",
       "//element.append(foo);\n",
       "// undefined\n",
       "// 1\n"
      ],
      "text/plain": [
       "<IPython.core.display.Javascript object>"
      ]
     },
     "metadata": {},
     "output_type": "display_data"
    }
   ],
   "source": [
    "%%javascript\n",
    "var foo = 1;\n",
    "\n",
    "(function() {\n",
    "    element.append(foo + '<br>');\n",
    "})();\n",
    "//element.append(foo);\n",
    "// undefined\n",
    "// 1"
   ]
  },
  {
   "cell_type": "markdown",
   "metadata": {
    "slideshow": {
     "slide_type": "fragment"
    }
   },
   "source": [
    "\n",
    "Mientras que:"
   ]
  },
  {
   "cell_type": "code",
   "execution_count": 68,
   "metadata": {
    "slideshow": {
     "slide_type": "fragment"
    }
   },
   "outputs": [
    {
     "data": {
      "application/javascript": [
       "var foo = 1;\n",
       "\n",
       "(function(foo) {\n",
       "    element.append(foo + '<br>');\n",
       "    foo = 4;\n",
       "})(foo);\n",
       "\n",
       "element.append(foo);\n",
       "// 1\n",
       "// 1\n"
      ],
      "text/plain": [
       "<IPython.core.display.Javascript object>"
      ]
     },
     "metadata": {},
     "output_type": "display_data"
    }
   ],
   "source": [
    "%%javascript\n",
    "var foo = 1;\n",
    "\n",
    "(function(foo) {\n",
    "    element.append(foo + '<br>');\n",
    "    foo = 4;\n",
    "})(foo);\n",
    "\n",
    "element.append(foo);\n",
    "// 1\n",
    "// 1"
   ]
  },
  {
   "cell_type": "markdown",
   "metadata": {
    "slideshow": {
     "slide_type": "slide"
    }
   },
   "source": [
    "## Excepciones"
   ]
  },
  {
   "cell_type": "markdown",
   "metadata": {
    "slideshow": {
     "slide_type": "slide"
    }
   },
   "source": [
    "\n",
    "## Concurrencia  \n"
   ]
  },
  {
   "cell_type": "markdown",
   "metadata": {
    "slideshow": {
     "slide_type": "slide"
    }
   },
   "source": [
    "## Referencias\n",
    "- https://es.wikipedia.org/wiki/JavaScript\n",
    "-  https://www.w3schools.com/js/js_object_prototypes.asp\n",
    "- https://developer.mozilla.org/es/docs/Web/JavaScript/Referencia/Classes\n",
    "- https://github.com/denysdovhan/wtfjs\n",
    "- https://github.com/getify/You-Dont-Know-JS\n",
    "- https://developer.mozilla.org/es/docs/Web/JavaScript/Introducci%C3%B3n_a_JavaScript_orientado_a_objetos\n",
    "- https://www.scribd.com/document/366609333/Analisis-Sintactico-del-lenguaje-JavaScript-utilizando-teoria-de-automatas\n",
    "\n",
    "- https://www.ecma-international.org/publications/files/ECMA-ST/Ecma-262.pdf\n",
    "- http://tomcopeland.blogs.com/EcmaScript.html#prod88\n"
   ]
  },
  {
   "cell_type": "code",
   "execution_count": null,
   "metadata": {},
   "outputs": [],
   "source": []
  }
 ],
 "metadata": {
  "celltoolbar": "Slideshow",
  "kernelspec": {
   "display_name": "Python 3",
   "language": "python",
   "name": "python3"
  },
  "language_info": {
   "codemirror_mode": {
    "name": "ipython",
    "version": 3
   },
   "file_extension": ".py",
   "mimetype": "text/x-python",
   "name": "python",
   "nbconvert_exporter": "python",
   "pygments_lexer": "ipython3",
   "version": "3.7.6"
  }
 },
 "nbformat": 4,
 "nbformat_minor": 4
}
